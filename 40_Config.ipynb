{
 "cells": [
  {
   "cell_type": "code",
   "execution_count": 3,
   "metadata": {},
   "outputs": [],
   "source": [
    "import yaml"
   ]
  },
  {
   "cell_type": "code",
   "execution_count": 5,
   "metadata": {},
   "outputs": [],
   "source": [
    "#export\n",
    "class AppConfig():\n",
    "    def __init__(self, file_name):\n",
    "        with open(file_name) as f:\n",
    "            self.config = yaml.safe_load(f)\n",
    "        self.database_user = self.config[\"database_user\"]\n",
    "        self.database_password = self.config[\"database_password\"]\n",
    "        self.database_name = self.config[\"database_name\"]\n",
    "        self.database_host = self.config[\"database_host\"]\n",
    "        self.table_index_values_name = self.config[\"table_index_values_name\"]\n",
    "        self.table_base_rates_name = self.config[\"table_base_rates_name\"]"
   ]
  }
 ],
 "metadata": {
  "kernelspec": {
   "display_name": "Python 3",
   "language": "python",
   "name": "python3"
  },
  "language_info": {
   "codemirror_mode": {
    "name": "ipython",
    "version": 3
   },
   "file_extension": ".py",
   "mimetype": "text/x-python",
   "name": "python",
   "nbconvert_exporter": "python",
   "pygments_lexer": "ipython3",
   "version": "3.8.5"
  }
 },
 "nbformat": 4,
 "nbformat_minor": 4
}
