{
 "cells": [
  {
   "cell_type": "code",
   "execution_count": 53,
   "id": "medium-finding",
   "metadata": {},
   "outputs": [
    {
     "name": "stdout",
     "output_type": "stream",
     "text": [
      "The autoreload extension is already loaded. To reload it, use:\n",
      "  %reload_ext autoreload\n"
     ]
    }
   ],
   "source": [
    "#hide\n",
    "%load_ext autoreload\n",
    "%autoreload 2"
   ]
  },
  {
   "cell_type": "code",
   "execution_count": 54,
   "id": "equivalent-identification",
   "metadata": {},
   "outputs": [],
   "source": [
    "#hide\n",
    "from nbdev.showdoc import *\n",
    "from IPython.display import Markdown,display\n",
    "import pyorient\n",
    "import pandas as pd"
   ]
  },
  {
   "cell_type": "code",
   "execution_count": 55,
   "id": "handed-array",
   "metadata": {},
   "outputs": [],
   "source": [
    "database_user = \"root\"\n",
    "database_password = \"rootpwd\"\n",
    "database_name = \"data\""
   ]
  },
  {
   "cell_type": "code",
   "execution_count": 56,
   "id": "mathematical-optimum",
   "metadata": {},
   "outputs": [
    {
     "data": {
      "text/plain": [
       "137"
      ]
     },
     "execution_count": 56,
     "metadata": {},
     "output_type": "execute_result"
    }
   ],
   "source": [
    "client = pyorient.OrientDB(\"localhost\", 2424)\n",
    "client.connect(database_user, database_password)"
   ]
  },
  {
   "cell_type": "code",
   "execution_count": 57,
   "id": "initial-candy",
   "metadata": {},
   "outputs": [],
   "source": [
    "if client.db_exists(database_name):\n",
    "   # Drop Database\n",
    "   client.db_drop(database_name)\n",
    "    \n",
    "# Create Database\n",
    "client.db_create(\n",
    "  database_name,\n",
    "  pyorient.DB_TYPE_DOCUMENT,\n",
    "  pyorient.STORAGE_TYPE_PLOCAL \n",
    ")\n",
    "\n",
    "database = client.db_open(database_name, database_user, database_password)"
   ]
  },
  {
   "cell_type": "code",
   "execution_count": 58,
   "id": "coated-fiber",
   "metadata": {},
   "outputs": [
    {
     "data": {
      "text/plain": [
       "[12]"
      ]
     },
     "execution_count": 58,
     "metadata": {},
     "output_type": "execute_result"
    }
   ],
   "source": [
    "client.command(\"CREATE CLASS index_value IF NOT EXISTS\")\n",
    "client.command(\"CREATE CLASS base_rate IF NOT EXISTS\")"
   ]
  },
  {
   "cell_type": "code",
   "execution_count": 59,
   "id": "instructional-attachment",
   "metadata": {},
   "outputs": [
    {
     "data": {
      "text/html": [
       "<div>\n",
       "<style scoped>\n",
       "    .dataframe tbody tr th:only-of-type {\n",
       "        vertical-align: middle;\n",
       "    }\n",
       "\n",
       "    .dataframe tbody tr th {\n",
       "        vertical-align: top;\n",
       "    }\n",
       "\n",
       "    .dataframe thead th {\n",
       "        text-align: right;\n",
       "    }\n",
       "</style>\n",
       "<table border=\"1\" class=\"dataframe\">\n",
       "  <thead>\n",
       "    <tr style=\"text-align: right;\">\n",
       "      <th></th>\n",
       "      <th>Date</th>\n",
       "      <th>Open</th>\n",
       "      <th>High</th>\n",
       "      <th>Low</th>\n",
       "      <th>Close</th>\n",
       "      <th>Adj_Close</th>\n",
       "      <th>Volume</th>\n",
       "      <th>ISIN</th>\n",
       "    </tr>\n",
       "  </thead>\n",
       "  <tbody>\n",
       "    <tr>\n",
       "      <th>0</th>\n",
       "      <td>1987-12-30</td>\n",
       "      <td>1005.190002</td>\n",
       "      <td>1005.190002</td>\n",
       "      <td>1005.190002</td>\n",
       "      <td>1005.190002</td>\n",
       "      <td>1005.190002</td>\n",
       "      <td>0.0</td>\n",
       "      <td>DE0008469008</td>\n",
       "    </tr>\n",
       "    <tr>\n",
       "      <th>3</th>\n",
       "      <td>1988-01-04</td>\n",
       "      <td>956.489990</td>\n",
       "      <td>956.489990</td>\n",
       "      <td>956.489990</td>\n",
       "      <td>956.489990</td>\n",
       "      <td>956.489990</td>\n",
       "      <td>0.0</td>\n",
       "      <td>DE0008469008</td>\n",
       "    </tr>\n",
       "    <tr>\n",
       "      <th>4</th>\n",
       "      <td>1988-01-05</td>\n",
       "      <td>996.099976</td>\n",
       "      <td>996.099976</td>\n",
       "      <td>996.099976</td>\n",
       "      <td>996.099976</td>\n",
       "      <td>996.099976</td>\n",
       "      <td>0.0</td>\n",
       "      <td>DE0008469008</td>\n",
       "    </tr>\n",
       "    <tr>\n",
       "      <th>5</th>\n",
       "      <td>1988-01-06</td>\n",
       "      <td>1006.010010</td>\n",
       "      <td>1006.010010</td>\n",
       "      <td>1006.010010</td>\n",
       "      <td>1006.010010</td>\n",
       "      <td>1006.010010</td>\n",
       "      <td>0.0</td>\n",
       "      <td>DE0008469008</td>\n",
       "    </tr>\n",
       "    <tr>\n",
       "      <th>6</th>\n",
       "      <td>1988-01-07</td>\n",
       "      <td>1014.469971</td>\n",
       "      <td>1014.469971</td>\n",
       "      <td>1014.469971</td>\n",
       "      <td>1014.469971</td>\n",
       "      <td>1014.469971</td>\n",
       "      <td>0.0</td>\n",
       "      <td>DE0008469008</td>\n",
       "    </tr>\n",
       "    <tr>\n",
       "      <th>...</th>\n",
       "      <td>...</td>\n",
       "      <td>...</td>\n",
       "      <td>...</td>\n",
       "      <td>...</td>\n",
       "      <td>...</td>\n",
       "      <td>...</td>\n",
       "      <td>...</td>\n",
       "      <td>...</td>\n",
       "    </tr>\n",
       "    <tr>\n",
       "      <th>8581</th>\n",
       "      <td>2021-04-26</td>\n",
       "      <td>15297.929688</td>\n",
       "      <td>15325.889648</td>\n",
       "      <td>15237.019531</td>\n",
       "      <td>15296.339844</td>\n",
       "      <td>15296.339844</td>\n",
       "      <td>49117600.0</td>\n",
       "      <td>DE0008469008</td>\n",
       "    </tr>\n",
       "    <tr>\n",
       "      <th>8582</th>\n",
       "      <td>2021-04-27</td>\n",
       "      <td>15282.839844</td>\n",
       "      <td>15293.889648</td>\n",
       "      <td>15186.759766</td>\n",
       "      <td>15249.269531</td>\n",
       "      <td>15249.269531</td>\n",
       "      <td>54513000.0</td>\n",
       "      <td>DE0008469008</td>\n",
       "    </tr>\n",
       "    <tr>\n",
       "      <th>8583</th>\n",
       "      <td>2021-04-28</td>\n",
       "      <td>15320.400391</td>\n",
       "      <td>15355.280273</td>\n",
       "      <td>15266.610352</td>\n",
       "      <td>15292.179688</td>\n",
       "      <td>15292.179688</td>\n",
       "      <td>79607600.0</td>\n",
       "      <td>DE0008469008</td>\n",
       "    </tr>\n",
       "    <tr>\n",
       "      <th>8584</th>\n",
       "      <td>2021-04-29</td>\n",
       "      <td>15326.230469</td>\n",
       "      <td>15329.719727</td>\n",
       "      <td>15085.019531</td>\n",
       "      <td>15154.200195</td>\n",
       "      <td>15154.200195</td>\n",
       "      <td>80110800.0</td>\n",
       "      <td>DE0008469008</td>\n",
       "    </tr>\n",
       "    <tr>\n",
       "      <th>8585</th>\n",
       "      <td>2021-04-30</td>\n",
       "      <td>15204.389648</td>\n",
       "      <td>15244.259766</td>\n",
       "      <td>15135.910156</td>\n",
       "      <td>15135.910156</td>\n",
       "      <td>15135.910156</td>\n",
       "      <td>75194700.0</td>\n",
       "      <td>DE0008469008</td>\n",
       "    </tr>\n",
       "  </tbody>\n",
       "</table>\n",
       "<p>8418 rows × 8 columns</p>\n",
       "</div>"
      ],
      "text/plain": [
       "            Date          Open          High           Low         Close  \\\n",
       "0     1987-12-30   1005.190002   1005.190002   1005.190002   1005.190002   \n",
       "3     1988-01-04    956.489990    956.489990    956.489990    956.489990   \n",
       "4     1988-01-05    996.099976    996.099976    996.099976    996.099976   \n",
       "5     1988-01-06   1006.010010   1006.010010   1006.010010   1006.010010   \n",
       "6     1988-01-07   1014.469971   1014.469971   1014.469971   1014.469971   \n",
       "...          ...           ...           ...           ...           ...   \n",
       "8581  2021-04-26  15297.929688  15325.889648  15237.019531  15296.339844   \n",
       "8582  2021-04-27  15282.839844  15293.889648  15186.759766  15249.269531   \n",
       "8583  2021-04-28  15320.400391  15355.280273  15266.610352  15292.179688   \n",
       "8584  2021-04-29  15326.230469  15329.719727  15085.019531  15154.200195   \n",
       "8585  2021-04-30  15204.389648  15244.259766  15135.910156  15135.910156   \n",
       "\n",
       "         Adj_Close      Volume          ISIN  \n",
       "0      1005.190002         0.0  DE0008469008  \n",
       "3       956.489990         0.0  DE0008469008  \n",
       "4       996.099976         0.0  DE0008469008  \n",
       "5      1006.010010         0.0  DE0008469008  \n",
       "6      1014.469971         0.0  DE0008469008  \n",
       "...            ...         ...           ...  \n",
       "8581  15296.339844  49117600.0  DE0008469008  \n",
       "8582  15249.269531  54513000.0  DE0008469008  \n",
       "8583  15292.179688  79607600.0  DE0008469008  \n",
       "8584  15154.200195  80110800.0  DE0008469008  \n",
       "8585  15135.910156  75194700.0  DE0008469008  \n",
       "\n",
       "[8418 rows x 8 columns]"
      ]
     },
     "execution_count": 59,
     "metadata": {},
     "output_type": "execute_result"
    }
   ],
   "source": [
    "#DAX (DE0008469008)\n",
    "df = pd.read_csv('C:/Users/menze/OneDrive/Polipol-Laptop/Studium/21Q2/WDK/Projekt/Index DAX Entwicklung.csv')\n",
    "df.columns = df.columns.str.replace(' ','_')\n",
    "df.dropna(inplace = True)\n",
    "df[\"ISIN\"] = \"DE0008469008\"\n",
    "\n",
    "for index, row in df.iterrows():\n",
    "    insert_command = \"INSERT INTO index_value CONTENT \" + row.to_json()\n",
    "    client.command(insert_command)\n",
    "    \n",
    "df"
   ]
  },
  {
   "cell_type": "code",
   "execution_count": 60,
   "id": "otherwise-sharing",
   "metadata": {},
   "outputs": [
    {
     "name": "stdout",
     "output_type": "stream",
     "text": [
      "{'@index_value':{'Date': '1987-12-30', 'Open': 1005.190002, 'High': 1005.190002, 'Low': 1005.190002, 'Close': 1005.190002, 'Adj_Close': 1005.190002, 'Volume': 0.0, 'ISIN': 'DE0008469008'},'version':1,'rid':'#25:0'}\n"
     ]
    }
   ],
   "source": [
    "print(client.query(\"SELECT FROM index_value\", 10)[0])"
   ]
  },
  {
   "cell_type": "code",
   "execution_count": 11,
   "id": "outstanding-conservative",
   "metadata": {},
   "outputs": [
    {
     "name": "stdout",
     "output_type": "stream",
     "text": [
      "Empty DataFrame\n",
      "Columns: [Unnamed:_0, Unnamed:_1, Unnamed:_2, Unnamed:_3, Bank]\n",
      "Index: []\n"
     ]
    }
   ],
   "source": [
    "# FED base rate\n",
    "df = pd.read_excel('C:/Users/menze/OneDrive/Polipol-Laptop/Studium/21Q2/WDK/Projekt/Statista FED Leitzins Entwicklung.xlsx', 1)\n",
    "df.columns = df.columns.str.replace(' ','_')\n",
    "df.dropna(inplace = True)\n",
    "df[\"Bank\"] = \"FED\"\n",
    "\n",
    "print(df)\n",
    "\n",
    "for index, row in df.iterrows():\n",
    "    insert_command = \"INSERT INTO base_rate CONTENT \" + row.to_json()\n",
    "    print(insert_command)\n",
    "    client.command(insert_command)"
   ]
  }
 ],
 "metadata": {
  "kernelspec": {
   "display_name": "Python 3",
   "language": "python",
   "name": "python3"
  },
  "language_info": {
   "codemirror_mode": {
    "name": "ipython",
    "version": 3
   },
   "file_extension": ".py",
   "mimetype": "text/x-python",
   "name": "python",
   "nbconvert_exporter": "python",
   "pygments_lexer": "ipython3",
   "version": "3.8.8"
  }
 },
 "nbformat": 4,
 "nbformat_minor": 5
}
