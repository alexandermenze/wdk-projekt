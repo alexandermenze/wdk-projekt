{
 "cells": [
  {
   "cell_type": "code",
   "execution_count": 28,
   "id": "appropriate-medline",
   "metadata": {},
   "outputs": [
    {
     "name": "stdout",
     "output_type": "stream",
     "text": [
      "The autoreload extension is already loaded. To reload it, use:\n",
      "  %reload_ext autoreload\n"
     ]
    }
   ],
   "source": [
    "#hide\n",
    "%load_ext autoreload\n",
    "%autoreload 2"
   ]
  },
  {
   "cell_type": "code",
   "execution_count": 40,
   "id": "rental-carrier",
   "metadata": {},
   "outputs": [],
   "source": [
    "import yaml\n",
    "\n",
    "#export\n",
    "class AppConfig():\n",
    "    def __init__(self, file_name):\n",
    "        with open(file_name) as f:\n",
    "            self.config = yaml.safe_load(f)\n",
    "        self.database_user = self.config[\"database_user\"]\n",
    "        self.database_password = self.config[\"database_password\"]\n",
    "        self.database_name = self.config[\"database_name\"]\n",
    "        self.database_host = self.config[\"database_host\"]\n",
    "        self.database_port = self.config[\"database_port\"]\n",
    "        self.table_index_values_name = self.config[\"table_index_values_name\"]\n",
    "        self.table_base_rates_name = self.config[\"table_base_rates_name\"]\n",
    "        \n",
    "class DataFileContainer():\n",
    "    def __init__(self, file_name):\n",
    "        with open(file_name) as f:\n",
    "            self.yaml_file = yaml.safe_load(f)\n",
    "        self.index_value_files = self.yaml_file[\"index_data\"]\n",
    "        self.base_rate_files = self.yaml_file[\"base_rate_data\"]\n",
    "        print(self.index_value_files)\n",
    "        print(self.base_rate_files)"
   ]
  },
  {
   "cell_type": "code",
   "execution_count": 30,
   "id": "necessary-messaging",
   "metadata": {},
   "outputs": [],
   "source": [
    "#hide\n",
    "from nbdev.showdoc import *\n",
    "from IPython.display import Markdown,display\n",
    "#import nb2ltx.AppConfig as AppConfig\n",
    "import pyorient\n",
    "import pandas as pd"
   ]
  },
  {
   "cell_type": "code",
   "execution_count": 31,
   "id": "conservative-drain",
   "metadata": {},
   "outputs": [],
   "source": [
    "config = AppConfig(\"config.yml\")"
   ]
  },
  {
   "cell_type": "code",
   "execution_count": 32,
   "id": "heard-newsletter",
   "metadata": {},
   "outputs": [
    {
     "data": {
      "text/plain": [
       "2"
      ]
     },
     "execution_count": 32,
     "metadata": {},
     "output_type": "execute_result"
    }
   ],
   "source": [
    "client = pyorient.OrientDB(config.database_host, config.database_port)\n",
    "client.connect(config.database_user, config.database_password)"
   ]
  },
  {
   "cell_type": "code",
   "execution_count": 33,
   "id": "manual-terrorist",
   "metadata": {},
   "outputs": [],
   "source": [
    "if client.db_exists(config.database_name):\n",
    "   # Drop Database\n",
    "   client.db_drop(config.database_name)\n",
    "    \n",
    "# Create Database\n",
    "client.db_create(\n",
    "  config.database_name,\n",
    "  pyorient.DB_TYPE_DOCUMENT,\n",
    "  pyorient.STORAGE_TYPE_PLOCAL \n",
    ")\n",
    "\n",
    "database = client.db_open(config.database_name, config.database_user, config.database_password)"
   ]
  },
  {
   "cell_type": "code",
   "execution_count": 34,
   "id": "efficient-journalism",
   "metadata": {},
   "outputs": [
    {
     "data": {
      "text/plain": [
       "[12]"
      ]
     },
     "execution_count": 34,
     "metadata": {},
     "output_type": "execute_result"
    }
   ],
   "source": [
    "client.command(\"CREATE CLASS \" + config.table_index_values_name + \" IF NOT EXISTS\")\n",
    "client.command(\"CREATE CLASS \" + config.table_base_rates_name + \" IF NOT EXISTS\")"
   ]
  },
  {
   "cell_type": "code",
   "execution_count": null,
   "id": "sonic-discussion",
   "metadata": {},
   "outputs": [
    {
     "name": "stdout",
     "output_type": "stream",
     "text": [
      "[{'file_name': 'Index CAC40 (FCHI) Entwicklung.csv', 'isin': 'FR0003500008', 'region': 'EU'}, {'file_name': 'Index DAX Entwicklung.csv', 'isin': 'DE0008469008', 'region': 'EU'}, {'file_name': 'Index Dow Jones (DJI) Entwicklung.csv', 'isin': 'US2605661048', 'region': 'USA'}, {'file_name': 'Index Euronext 100 (N100) Entwicklung.csv', 'isin': 'FR0003502079', 'region': 'EU'}, {'file_name': 'Index NASDAQ100 (NDX) Entwicklung.csv', 'isin': 'US6311011026', 'region': 'USA'}, {'file_name': 'Index S&P500 Entwicklung.csv', 'isin': 'US78378X1072', 'region': 'USA'}, {'file_name': 'Index STOXX50E Entwicklung seit 2007.csv', 'isin': 'EU0009658145', 'region': 'EU'}]\n",
      "[{'file_name': 'Statista EZB Leitzins Entwicklung.xlsx', 'institution': 'EZB', 'region': 'EU', 'excel_sheet_id': 2}, {'file_name': 'Statista FED Leitzins Entwicklung.xlsx', 'institution': 'FED', 'region': 'USA', 'excel_sheet_id': 2}]\n"
     ]
    }
   ],
   "source": [
    "data_file_container = DataFileContainer(\"files.yml\")\n",
    "\n",
    "#DAX (DE0008469008)\n",
    "df = pd.read_csv('C:/Users/menze/OneDrive/Polipol-Laptop/Studium/21Q2/WDK/Projekt/Index DAX Entwicklung.csv')\n",
    "df.columns = df.columns.str.replace(' ','_')\n",
    "df.dropna(inplace = True)\n",
    "df[\"ISIN\"] = \"DE0008469008\"\n",
    "\n",
    "for index, row in df.iterrows():\n",
    "    insert_command = \"INSERT INTO \" + config.table_index_values_name + \" CONTENT \" + row.to_json()\n",
    "    client.command(insert_command)\n",
    "    \n",
    "df"
   ]
  },
  {
   "cell_type": "code",
   "execution_count": 36,
   "id": "listed-tyler",
   "metadata": {},
   "outputs": [
    {
     "name": "stdout",
     "output_type": "stream",
     "text": [
      "{'@index_value':{'Date': '1987-12-30', 'Open': 1005.190002, 'High': 1005.190002, 'Low': 1005.190002, 'Close': 1005.190002, 'Adj_Close': 1005.190002, 'Volume': 0.0, 'ISIN': 'DE0008469008'},'version':1,'rid':'#25:0'}\n"
     ]
    }
   ],
   "source": [
    "print(client.query(\"SELECT FROM \" + config.table_index_values_name, 10)[0])"
   ]
  },
  {
   "cell_type": "code",
   "execution_count": 11,
   "id": "changed-lover",
   "metadata": {},
   "outputs": [
    {
     "name": "stdout",
     "output_type": "stream",
     "text": [
      "Empty DataFrame\n",
      "Columns: [Unnamed:_0, Unnamed:_1, Unnamed:_2, Unnamed:_3, Bank]\n",
      "Index: []\n"
     ]
    }
   ],
   "source": [
    "# FED base rate\n",
    "df = pd.read_excel('C:/Users/menze/OneDrive/Polipol-Laptop/Studium/21Q2/WDK/Projekt/Statista FED Leitzins Entwicklung.xlsx', 1)\n",
    "df.columns = df.columns.str.replace(' ','_')\n",
    "df.dropna(inplace = True)\n",
    "df[\"Bank\"] = \"FED\"\n",
    "\n",
    "print(df)\n",
    "\n",
    "for index, row in df.iterrows():\n",
    "    insert_command = \"INSERT INTO base_rate CONTENT \" + row.to_json()\n",
    "    print(insert_command)\n",
    "    client.command(insert_command)"
   ]
  }
 ],
 "metadata": {
  "kernelspec": {
   "display_name": "Python 3",
   "language": "python",
   "name": "python3"
  },
  "language_info": {
   "codemirror_mode": {
    "name": "ipython",
    "version": 3
   },
   "file_extension": ".py",
   "mimetype": "text/x-python",
   "name": "python",
   "nbconvert_exporter": "python",
   "pygments_lexer": "ipython3",
   "version": "3.8.8"
  }
 },
 "nbformat": 4,
 "nbformat_minor": 5
}
