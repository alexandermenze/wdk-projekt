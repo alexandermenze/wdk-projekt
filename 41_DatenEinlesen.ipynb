{
 "cells": [
  {
   "cell_type": "code",
   "execution_count": 70,
   "id": "collectible-edition",
   "metadata": {},
   "outputs": [
    {
     "name": "stdout",
     "output_type": "stream",
     "text": [
      "The autoreload extension is already loaded. To reload it, use:\n",
      "  %reload_ext autoreload\n"
     ]
    }
   ],
   "source": [
    "#hide\n",
    "%load_ext autoreload\n",
    "%autoreload 2"
   ]
  },
  {
   "cell_type": "code",
   "execution_count": 71,
   "id": "rational-repair",
   "metadata": {},
   "outputs": [],
   "source": [
    "import yaml\n",
    "\n",
    "#export\n",
    "class AppConfig():\n",
    "    def __init__(self, file_name):\n",
    "        with open(file_name) as f:\n",
    "            self.config = yaml.safe_load(f)\n",
    "        self.database_user = self.config[\"database_user\"]\n",
    "        self.database_password = self.config[\"database_password\"]\n",
    "        self.database_name = self.config[\"database_name\"]\n",
    "        self.database_host = self.config[\"database_host\"]\n",
    "        self.database_port = self.config[\"database_port\"]\n",
    "        self.table_index_values_name = self.config[\"table_index_values_name\"]\n",
    "        self.table_base_rates_name = self.config[\"table_base_rates_name\"]\n",
    "        self.data_file_folder = self.config[\"data_file_folder\"]\n",
    "        \n",
    "class DataFileContainer():\n",
    "    def __init__(self, file_name):\n",
    "        with open(file_name) as f:\n",
    "            self.yaml_file = yaml.safe_load(f)\n",
    "        self.index_value_files = self.yaml_file[\"index_data\"]\n",
    "        self.base_rate_files = self.yaml_file[\"base_rate_data\"]"
   ]
  },
  {
   "cell_type": "code",
   "execution_count": 72,
   "id": "gross-lightweight",
   "metadata": {},
   "outputs": [],
   "source": [
    "#hide\n",
    "from nbdev.showdoc import *\n",
    "from IPython.display import Markdown,display\n",
    "#import nb2ltx.AppConfig as AppConfig\n",
    "import pyorient\n",
    "import pandas as pd\n",
    "import os.path"
   ]
  },
  {
   "cell_type": "code",
   "execution_count": 73,
   "id": "trained-filter",
   "metadata": {},
   "outputs": [],
   "source": [
    "config = AppConfig(\"config.yml\")"
   ]
  },
  {
   "cell_type": "code",
   "execution_count": 74,
   "id": "false-entrance",
   "metadata": {},
   "outputs": [
    {
     "data": {
      "text/plain": [
       "33"
      ]
     },
     "execution_count": 74,
     "metadata": {},
     "output_type": "execute_result"
    }
   ],
   "source": [
    "client = pyorient.OrientDB(config.database_host, config.database_port)\n",
    "client.connect(config.database_user, config.database_password)"
   ]
  },
  {
   "cell_type": "code",
   "execution_count": 75,
   "id": "joint-adult",
   "metadata": {},
   "outputs": [],
   "source": [
    "if client.db_exists(config.database_name):\n",
    "   # Drop Database\n",
    "   client.db_drop(config.database_name)\n",
    "    \n",
    "# Create Database\n",
    "client.db_create(\n",
    "  config.database_name,\n",
    "  pyorient.DB_TYPE_DOCUMENT,\n",
    "  pyorient.STORAGE_TYPE_PLOCAL \n",
    ")\n",
    "\n",
    "database = client.db_open(config.database_name, config.database_user, config.database_password)"
   ]
  },
  {
   "cell_type": "code",
   "execution_count": 76,
   "id": "tough-departure",
   "metadata": {},
   "outputs": [
    {
     "data": {
      "text/plain": [
       "[12]"
      ]
     },
     "execution_count": 76,
     "metadata": {},
     "output_type": "execute_result"
    }
   ],
   "source": [
    "client.command(\"CREATE CLASS \" + config.table_index_values_name + \" IF NOT EXISTS\")\n",
    "client.command(\"CREATE CLASS \" + config.table_base_rates_name + \" IF NOT EXISTS\")"
   ]
  },
  {
   "cell_type": "code",
   "execution_count": 77,
   "id": "interstate-armenia",
   "metadata": {},
   "outputs": [],
   "source": [
    "def prepare_index_data(df, isin, region):\n",
    "    df.columns = df.columns.str.replace(' ','_')\n",
    "    df.dropna(inplace = True)\n",
    "    df[\"ISIN\"] = isin\n",
    "    df[\"Region\"] = region\n",
    "    \n",
    "def insert_index_data(index_value_file_list):\n",
    "    current_index = 1\n",
    "    for file in index_value_file_list:\n",
    "        df = pd.read_csv(os.path.join(config.data_file_folder, file[\"file_name\"]))\n",
    "        prepare_index_data(df, file[\"isin\"], file[\"region\"])\n",
    "        print(\"Inserting '\" + file[\"file_name\"] + \"' (\" + str(current_index) + \" of \" + str(len(index_value_file_list)) + \") (\" + str(df.shape[0]) + \" rows) ...\")\n",
    "        current_index = current_index + 1\n",
    "        for index, row in df.iterrows():\n",
    "            insert_command = \"INSERT INTO \" + config.table_index_values_name + \" CONTENT \" + row.to_json()\n",
    "            client.command(insert_command)"
   ]
  },
  {
   "cell_type": "code",
   "execution_count": 78,
   "id": "sweet-pierce",
   "metadata": {},
   "outputs": [],
   "source": [
    "def prepare_base_rate_data(df, institution, region):\n",
    "    df.columns = df.columns.str.replace(' ','_')\n",
    "    df.dropna(inplace = True, axis=1, how='all')\n",
    "    df[\"Institution\"] = institution\n",
    "    df[\"Region\"] = region\n",
    "    \n",
    "def insert_base_rate_data(base_rate_file_list):\n",
    "    current_index = 1\n",
    "    for file in base_rate_file_list:\n",
    "        df = pd.read_excel(os.path.join(config.data_file_folder, file[\"file_name\"]), file[\"excel_sheet_id\"])\n",
    "        prepare_base_rate_data(df, file[\"institution\"], file[\"region\"])\n",
    "        print(\"Inserting '\" + file[\"file_name\"] + \"' (\" + str(current_index) + \" of \" + str(len(base_rate_file_list)) + \") (\" + str(df.shape[0]) + \" rows) ...\")\n",
    "        current_index = current_index + 1\n",
    "        for index, row in df.iterrows():\n",
    "            insert_command = \"INSERT INTO \" + config.table_base_rates_name + \" CONTENT \" + row.to_json()\n",
    "            client.command(insert_command)"
   ]
  },
  {
   "cell_type": "code",
   "execution_count": 79,
   "id": "rotary-technician",
   "metadata": {},
   "outputs": [],
   "source": [
    "data_file_container = DataFileContainer(\"files.yml\")"
   ]
  },
  {
   "cell_type": "code",
   "execution_count": 80,
   "id": "extraordinary-hepatitis",
   "metadata": {},
   "outputs": [
    {
     "name": "stdout",
     "output_type": "stream",
     "text": [
      "-- Inserting index values\n",
      "Inserting 'Index CAC40 (FCHI) Entwicklung.csv' (1 of 7) (7905 rows) ...\n",
      "Inserting 'Index DAX Entwicklung.csv' (2 of 7) (8418 rows) ...\n",
      "Inserting 'Index Dow Jones (DJI) Entwicklung.csv' (3 of 7) (5346 rows) ...\n",
      "Inserting 'Index Euronext 100 (N100) Entwicklung.csv' (4 of 7) (5451 rows) ...\n",
      "Inserting 'Index NASDAQ100 (NDX) Entwicklung.csv' (5 of 7) (5366 rows) ...\n",
      "Inserting 'Index S&P500 Entwicklung.csv' (6 of 7) (5366 rows) ...\n",
      "Inserting 'Index STOXX50E Entwicklung seit 2007.csv' (7 of 7) (3526 rows) ...\n",
      "-- Done!\n"
     ]
    }
   ],
   "source": [
    "print(\"-- Inserting index values\")\n",
    "insert_index_data(data_file_container.index_value_files)\n",
    "print(\"-- Done!\")"
   ]
  },
  {
   "cell_type": "code",
   "execution_count": 81,
   "id": "stupid-thickness",
   "metadata": {},
   "outputs": [
    {
     "name": "stdout",
     "output_type": "stream",
     "text": [
      "-- Inserting base_rate values\n",
      "Inserting 'Statista EZB Leitzins Entwicklung.xlsx' (1 of 2) (47 rows) ...\n",
      "Inserting 'Statista FED Leitzins Entwicklung.xlsx' (2 of 2) (54 rows) ...\n",
      "-- Done\n"
     ]
    }
   ],
   "source": [
    "print(\"-- Inserting base_rate values\")\n",
    "insert_base_rate_data(data_file_container.base_rate_files)\n",
    "print(\"-- Done\")"
   ]
  },
  {
   "cell_type": "code",
   "execution_count": 82,
   "id": "respected-combat",
   "metadata": {},
   "outputs": [
    {
     "name": "stdout",
     "output_type": "stream",
     "text": [
      "{'@index_value':{'Date': '1990-03-01', 'Open': 1836.0, 'High': 1838.0, 'Low': 1827.0, 'Close': 1832.0, 'Adj_Close': 1832.0, 'Volume': 0.0, 'ISIN': 'FR0003500008', 'Region': 'EU'},'version':1,'rid':'#25:0'}\n",
      "{'@base_rate':{'Date_Since': 915148800000, 'Base_Rate': 3.0, 'Institution': 'EZB', 'Region': 'EU'},'version':1,'rid':'#33:0'}\n"
     ]
    }
   ],
   "source": [
    "print(client.query(\"SELECT FROM \" + config.table_index_values_name, 10)[0])\n",
    "print(client.query(\"SELECT FROM \" + config.table_base_rates_name, 10)[0])"
   ]
  }
 ],
 "metadata": {
  "kernelspec": {
   "display_name": "Python 3",
   "language": "python",
   "name": "python3"
  },
  "language_info": {
   "codemirror_mode": {
    "name": "ipython",
    "version": 3
   },
   "file_extension": ".py",
   "mimetype": "text/x-python",
   "name": "python",
   "nbconvert_exporter": "python",
   "pygments_lexer": "ipython3",
   "version": "3.8.8"
  }
 },
 "nbformat": 4,
 "nbformat_minor": 5
}
