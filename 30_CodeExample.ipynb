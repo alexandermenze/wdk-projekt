{
 "cells": [
  {
   "cell_type": "code",
   "execution_count": null,
   "id": "photographic-principle",
   "metadata": {},
   "outputs": [],
   "source": [
    "# default_exp klauswert"
   ]
  },
  {
   "cell_type": "markdown",
   "id": "sophisticated-castle",
   "metadata": {},
   "source": [
    "\n",
    "# klauswert\n",
    "\n",
    "> Ein Modul zur Klausurauswertung"
   ]
  },
  {
   "cell_type": "code",
   "execution_count": null,
   "id": "activated-initial",
   "metadata": {},
   "outputs": [],
   "source": [
    "#hide\n",
    "from nbdev.showdoc import *\n",
    "from IPython.display import Markdown,display"
   ]
  },
  {
   "cell_type": "code",
   "execution_count": null,
   "id": "working-phrase",
   "metadata": {},
   "outputs": [],
   "source": [
    "#hide\n",
    "# Modificated version of method show_doc more suitable for LaTeX documents\n",
    "def my_show_doc(item):\n",
    "    display(Markdown(show_doc(item, disp=False).replace('[source]','')))\n",
    "    \n",
    "def my_dispMarkdown(item):\n",
    "    display(Markdown(item.to_markdown()))"
   ]
  },
  {
   "cell_type": "markdown",
   "id": "distributed-disney",
   "metadata": {},
   "source": [
    "## Module einbinden"
   ]
  },
  {
   "cell_type": "code",
   "execution_count": null,
   "id": "upper-internship",
   "metadata": {},
   "outputs": [],
   "source": [
    "# exports\n",
    "import pandas as pd\n",
    "import yaml\n"
   ]
  },
  {
   "cell_type": "markdown",
   "id": "working-welcome",
   "metadata": {},
   "source": [
    "## Klasse \"Klauswert\""
   ]
  },
  {
   "cell_type": "markdown",
   "id": "italic-corruption",
   "metadata": {},
   "source": [
    "### Standard Konfiguration"
   ]
  },
  {
   "cell_type": "code",
   "execution_count": null,
   "id": "sound-implement",
   "metadata": {},
   "outputs": [],
   "source": [
    "# exports\n",
    "stdConfig = '''headerPC: 4\n",
    "pointCols: \"A:L\"\n",
    "headerMC: 1\n",
    "markCols: \"N:O\"\n",
    "headerMP: 1\n",
    "mxPointCols:  \"A:L\"\n",
    "'''"
   ]
  },
  {
   "cell_type": "code",
   "execution_count": null,
   "id": "composite-addition",
   "metadata": {},
   "outputs": [],
   "source": [
    "#export\n",
    "class Klauswert():\n",
    "    '''Aufgabe der Klasse: Klausurauswertung \\\\\n",
    "      Konfiguration: YAML-Text (stdConfig)\\\\\n",
    "      Ausgangslage: .xlsx-Datei mit einer Zeile je Student. In den Spalten  \n",
    "      config['pointCols'] stehen die Punkte für die jeweiligen Aufgaben. In den Spalten\n",
    "      config['markCols'] ist die Notenverteilung ersichtlich\n",
    "    '''\n",
    "    def __init__(self, fname, configTxt = stdConfig):\n",
    "        self.config = yaml.load(configTxt, Loader=yaml.FullLoader)\n",
    "        \n",
    "        # Aufgabenpunkte der Studierenden laden\n",
    "        self.dfKerg=pd.read_excel(fname, header=self.config['headerPC'], \n",
    "                                  usecols=self.config['pointCols'])\n",
    "        #display(self.dfKerg.head())\n",
    "        \n",
    "        # max. mögliche Aufgabenpunkte laden\n",
    "        self.dfPkt=pd.read_excel(fname, header=self.config['headerMP'], \n",
    "                                  usecols=self.config['mxPointCols'], nrows=1)\n",
    "        \n",
    "        # Prozentschwellen für Noten laden\n",
    "        self.ndf=pd.read_excel(fname, header=self.config['headerMC'], \n",
    "                                  usecols=self.config['markCols']).dropna()\n",
    "        #display(self.ndf.head())\n",
    "        # Gesamtpunkte pro Student\n",
    "        self.dfKerg['sumP'] = self.dfKerg.sum(axis=1)\n",
    "\n",
    "        # Zielerreichung pro Student\n",
    "        sumP=self.dfPkt.sum(axis=1)[0]\n",
    "        self.dfKerg2=self.dfKerg.copy()\n",
    "        self.dfKerg2['pktProz'] = self.dfKerg2['sumP']/sumP*100\n",
    "        # Noten berechnen\n",
    "        self.dfKerg2['Note'] =  self.dfKerg2['pktProz'].map(lambda proz: self.__noteB(proz))\n",
    "\n",
    "    \n",
    "    def __noteB(self, punkte):\n",
    "        return self.ndf[self.ndf['%'] <= punkte].iloc[0]['Note']\n",
    "\n",
    "    def getConfig(self):\n",
    "        return self.config\n",
    "    \n",
    "    def getAllData(self):\n",
    "        '''Aufgabe: gesamten Dataframe zurück geben.'''\n",
    "        return self.dfKerg\n",
    "    \n",
    "    def getNoten(self):\n",
    "        return self.dfKerg2[['Name', 'Note']]\n",
    "    \n",
    "    def getNotenDefinition(self):\n",
    "        return self.ndf\n",
    "    \n",
    "    def getDurchgefallen(self):\n",
    "        '''Liefert eine Liste mit den Namen der Teilnehmer, die die Klausur nicht bestanden haben, \n",
    "        sowie deren Zielerreichungswert.\n",
    "        '''\n",
    "        return self.dfKerg2[self.dfKerg2['Note'] > 4][['Name', 'pktProz', 'Note']]"
   ]
  },
  {
   "cell_type": "code",
   "execution_count": null,
   "id": "sharp-sally",
   "metadata": {},
   "outputs": [],
   "source": [
    "pbx2020 = Klauswert('rawData/KlausurPunkte.xlsx')\n"
   ]
  },
  {
   "cell_type": "code",
   "execution_count": null,
   "id": "capable-concentration",
   "metadata": {},
   "outputs": [
    {
     "data": {
      "text/markdown": [
       "<h2 id=\"Klauswert\" class=\"doc_header\"><code>class</code> <code>Klauswert</code><a href=\"\" class=\"source_link\" style=\"float:right\"></a></h2>\n",
       "\n",
       "> <code>Klauswert</code>(**`fname`**, **`configTxt`**=*`'headerPC: 4\\npointCols: \"A:L\"\\nheaderMC: 1\\nmarkCols: \"N:O\"\\nheaderMP: 1\\nmxPointCols:  \"A:L\"\\n'`*)\n",
       "\n",
       "Aufgabe der Klasse: Klausurauswertung \\\n",
       "Konfiguration: YAML-Text (stdConfig)\\\n",
       "Ausgangslage: .xlsx-Datei mit einer Zeile je Student. In den Spalten  \n",
       "config['pointCols'] stehen die Punkte für die jeweiligen Aufgaben. In den Spalten\n",
       "config['markCols'] ist die Notenverteilung ersichtlich"
      ],
      "text/plain": [
       "<IPython.core.display.Markdown object>"
      ]
     },
     "metadata": {},
     "output_type": "display_data"
    }
   ],
   "source": [
    "my_show_doc(Klauswert)"
   ]
  },
  {
   "cell_type": "code",
   "execution_count": null,
   "id": "premier-header",
   "metadata": {},
   "outputs": [],
   "source": []
  },
  {
   "cell_type": "code",
   "execution_count": null,
   "id": "final-criminal",
   "metadata": {},
   "outputs": [],
   "source": []
  },
  {
   "cell_type": "code",
   "execution_count": null,
   "id": "frozen-consultancy",
   "metadata": {},
   "outputs": [
    {
     "name": "stdout",
     "output_type": "stream",
     "text": [
      "1\n"
     ]
    }
   ],
   "source": [
    "pbx2020 = Klauswert('rawData/KlausurPunkte.xlsx')\n",
    "print(pbx2020.getConfig()['headerMC'])"
   ]
  },
  {
   "cell_type": "markdown",
   "id": "destroyed-correspondence",
   "metadata": {},
   "source": [
    "### Die Funktionen"
   ]
  },
  {
   "cell_type": "code",
   "execution_count": null,
   "id": "strong-omaha",
   "metadata": {},
   "outputs": [
    {
     "data": {
      "text/markdown": [
       "<h4 id=\"Klauswert.getAllData\" class=\"doc_header\"><code>Klauswert.getAllData</code><a href=\"__main__.py#L42\" class=\"source_link\" style=\"float:right\"></a></h4>\n",
       "\n",
       "> <code>Klauswert.getAllData</code>()\n",
       "\n",
       "Aufgabe: gesamten Dataframe zurück geben."
      ],
      "text/plain": [
       "<IPython.core.display.Markdown object>"
      ]
     },
     "metadata": {},
     "output_type": "display_data"
    }
   ],
   "source": [
    "my_show_doc(Klauswert.getAllData)"
   ]
  },
  {
   "cell_type": "code",
   "execution_count": null,
   "id": "radical-stocks",
   "metadata": {},
   "outputs": [
    {
     "data": {
      "text/markdown": [
       "|    | Name        |   A1 |   A2 |   A3 |   A4 |   A5 |   A6 |   A7 |   A8 |   A9 |   A10 |   A11 |   sumP |\n",
       "|---:|:------------|-----:|-----:|-----:|-----:|-----:|-----:|-----:|-----:|-----:|------:|------:|-------:|\n",
       "|  0 | Alexander   |  4   |  6   |    4 |  7   | 11   |  4   |    4 |  5   |  5   |   4.5 |  10.5 |   65   |\n",
       "|  1 | Andre       |  4   |  3.5 |    4 |  8   | 20.5 |  4   |    3 |  3.5 |  3.5 |   3   |   4   |   61   |\n",
       "|  2 | Celine      |  4   |  3.5 |    2 |  7   | 13.5 |  5   |    5 |  5   |  4.5 |   5   |  11   |   65.5 |\n",
       "|  3 | Christian   |  3.5 |  2.5 |    1 |  6.5 | 17   |  2.5 |    5 |  5   |  4   |   6   |   4   |   57   |\n",
       "|  4 | Christopher |  3.5 |  0.5 |    0 |  4   |  7.5 |  0   |    0 |  0   |  0   |   0   |   0   |   15.5 |"
      ],
      "text/plain": [
       "<IPython.core.display.Markdown object>"
      ]
     },
     "metadata": {},
     "output_type": "display_data"
    }
   ],
   "source": [
    "display(Markdown(pbx2020.getAllData().head().to_markdown()))"
   ]
  },
  {
   "cell_type": "markdown",
   "id": "frequent-secret",
   "metadata": {},
   "source": [
    "Die folgende Tabelle ist eine Kopie der Codeausgabe der vorherigen Zelle:\n",
    "\n",
    "|    | Name        |   A1 |   A2 |   A3 |   A4 |   A5 |   A6 |   A7 |   A8 |   A9 |   A10 |   A11 |   sumP |\n",
    "|---:|:------------|-----:|-----:|-----:|-----:|-----:|-----:|-----:|-----:|-----:|------:|------:|-------:|\n",
    "|  0 | Alexander   |  4   |  6   |    4 |  7   | 11   |  4   |    4 |  5   |  5   |   4.5 |  10.5 |   65   |\n",
    "|  1 | Andre       |  4   |  3.5 |    4 |  8   | 20.5 |  4   |    3 |  3.5 |  3.5 |   3   |   4   |   61   |\n",
    "|  2 | Celine      |  4   |  3.5 |    2 |  7   | 13.5 |  5   |    5 |  5   |  4.5 |   5   |  11   |   65.5 |\n",
    "|  3 | Christian   |  3.5 |  2.5 |    1 |  6.5 | 17   |  2.5 |    5 |  5   |  4   |   6   |   4   |   57   |\n",
    "|  4 | Christopher |  3.5 |  0.5 |    0 |  4   |  7.5 |  0   |    0 |  0   |  0   |   0   |   0   |   15.5 |"
   ]
  },
  {
   "cell_type": "code",
   "execution_count": null,
   "id": "stock-support",
   "metadata": {},
   "outputs": [],
   "source": [
    "dfKerg=pd.read_excel('rawData/KlausurPunkte.xlsx', header=4, usecols='A:L')"
   ]
  },
  {
   "cell_type": "code",
   "execution_count": null,
   "id": "moderate-earth",
   "metadata": {},
   "outputs": [
    {
     "data": {
      "text/markdown": [
       "|    | Name        |   A1 |   A2 |   A3 |   A4 |   A5 |   A6 |   A7 |   A8 |   A9 |   A10 |   A11 |\n",
       "|---:|:------------|-----:|-----:|-----:|-----:|-----:|-----:|-----:|-----:|-----:|------:|------:|\n",
       "|  0 | Alexander   |  4   |  6   |    4 |  7   | 11   |  4   |    4 |  5   |  5   |   4.5 |  10.5 |\n",
       "|  1 | Andre       |  4   |  3.5 |    4 |  8   | 20.5 |  4   |    3 |  3.5 |  3.5 |   3   |   4   |\n",
       "|  2 | Celine      |  4   |  3.5 |    2 |  7   | 13.5 |  5   |    5 |  5   |  4.5 |   5   |  11   |\n",
       "|  3 | Christian   |  3.5 |  2.5 |    1 |  6.5 | 17   |  2.5 |    5 |  5   |  4   |   6   |   4   |\n",
       "|  4 | Christopher |  3.5 |  0.5 |    0 |  4   |  7.5 |  0   |    0 |  0   |  0   |   0   |   0   |"
      ],
      "text/plain": [
       "<IPython.core.display.Markdown object>"
      ]
     },
     "metadata": {},
     "output_type": "display_data"
    }
   ],
   "source": [
    "my_dispMarkdown(dfKerg.head())"
   ]
  },
  {
   "cell_type": "code",
   "execution_count": null,
   "id": "multiple-mechanics",
   "metadata": {},
   "outputs": [
    {
     "data": {
      "text/markdown": [
       "<h4 id=\"Klauswert.getDurchgefallen\" class=\"doc_header\"><code>Klauswert.getDurchgefallen</code><a href=\"__main__.py#L52\" class=\"source_link\" style=\"float:right\"></a></h4>\n",
       "\n",
       "> <code>Klauswert.getDurchgefallen</code>()\n",
       "\n",
       "Liefert eine Liste mit den Namen der Teilnehmer, die die Klausur nicht bestanden haben, \n",
       "sowie deren Zielerreichungswert."
      ],
      "text/plain": [
       "<IPython.core.display.Markdown object>"
      ]
     },
     "metadata": {},
     "output_type": "display_data"
    }
   ],
   "source": [
    "my_show_doc(Klauswert.getDurchgefallen)"
   ]
  },
  {
   "cell_type": "code",
   "execution_count": null,
   "id": "editorial-demonstration",
   "metadata": {},
   "outputs": [
    {
     "data": {
      "text/markdown": [
       "|    | Name        |   pktProz |   Note |\n",
       "|---:|:------------|----------:|-------:|\n",
       "|  4 | Christopher |   17.2222 |      5 |\n",
       "| 15 | Kamil       |   25      |      5 |\n",
       "| 20 | Lukas       |   45      |      5 |\n",
       "| 34 | Tim         |   47.2222 |      5 |\n",
       "| 35 | Tobias      |   44.4444 |      5 |"
      ],
      "text/plain": [
       "<IPython.core.display.Markdown object>"
      ]
     },
     "metadata": {},
     "output_type": "display_data"
    }
   ],
   "source": [
    "my_dispMarkdown(pbx2020.getDurchgefallen().head())"
   ]
  },
  {
   "cell_type": "markdown",
   "id": "average-litigation",
   "metadata": {},
   "source": [
    "|    | Name        |   pktProz |   Note |\n",
    "|---:|:------------|----------:|-------:|\n",
    "|  4 | Christopher |   17.2222 |      5 |\n",
    "| 15 | Kamil       |   25      |      5 |\n",
    "| 20 | Lukas       |   45      |      5 |\n",
    "| 34 | Tim         |   47.2222 |      5 |\n",
    "| 35 | Tobias      |   44.4444 |      5 |"
   ]
  },
  {
   "cell_type": "code",
   "execution_count": null,
   "id": "improving-bubble",
   "metadata": {},
   "outputs": [
    {
     "name": "stdout",
     "output_type": "stream",
     "text": [
      "Converted 10_Code.ipynb.\n",
      "Converted 11_FirstExample.ipynb.\n",
      "Converted 20_Examples.ipynb.\n",
      "Converted 30_CodeExample.ipynb.\n",
      "Converted 31_klauswertTests.ipynb.\n",
      "Converted index.ipynb.\n"
     ]
    }
   ],
   "source": [
    "#hide\n",
    "from nbdev.export import notebook2script; notebook2script()"
   ]
  },
  {
   "cell_type": "markdown",
   "id": "atmospheric-ensemble",
   "metadata": {},
   "source": [
    "\n"
   ]
  },
  {
   "cell_type": "code",
   "execution_count": null,
   "id": "apparent-judge",
   "metadata": {},
   "outputs": [],
   "source": []
  }
 ],
 "metadata": {
  "kernelspec": {
   "display_name": "Python 3",
   "language": "python",
   "name": "python3"
  }
 },
 "nbformat": 4,
 "nbformat_minor": 5
}
