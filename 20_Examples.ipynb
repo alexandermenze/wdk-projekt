{
 "cells": [
  {
   "cell_type": "code",
   "execution_count": null,
   "id": "pretty-vaccine",
   "metadata": {},
   "outputs": [],
   "source": [
    "# default_exp examples"
   ]
  },
  {
   "cell_type": "code",
   "execution_count": null,
   "id": "modified-mongolia",
   "metadata": {},
   "outputs": [],
   "source": [
    "#hide\n",
    "from nbdev.showdoc import *"
   ]
  },
  {
   "cell_type": "code",
   "execution_count": null,
   "id": "known-distributor",
   "metadata": {},
   "outputs": [],
   "source": [
    "# hide\n",
    "import graphviz\n",
    "def gv(s): return graphviz.Source('digraph G{ rankdir=\"LR\"' + s + '; }')"
   ]
  },
  {
   "cell_type": "raw",
   "id": "electrical-bernard",
   "metadata": {},
   "source": [
    "---\n",
    "dummy: In diesem Vorspann stehen Variablen, die von Pandoc bzw. dem Template 'Eisvogel' genutzt werden \n",
    "title: \"Jupyter Notebooks und LaTeX\"\n",
    "author: Ulrich Reus\n",
    "subject: \"Jupyter Notebooks und LaTeX\"\n",
    "keywords: [Markdown, FHDW, Abschlussarbeiten]\n",
    "toc-own-page: true\n",
    "titlepage: true\n",
    "header-right: \"\\\\phantom{Ich will nichts sehen} \"\n",
    "footer-left: \"\\\\phantom{Ich will nichts sehen} \"\n",
    "lang: \"de\"\n",
    "fontfamily: \"lmodern\"\n",
    "reference-section-title: \"Quellen\"\n",
    "---"
   ]
  },
  {
   "cell_type": "markdown",
   "id": "varied-cancer",
   "metadata": {},
   "source": [
    "# Einleitung"
   ]
  },
  {
   "cell_type": "markdown",
   "id": "seasonal-wagner",
   "metadata": {},
   "source": [
    "Dieses Dokument soll anhand einiger Beispiele die Möglichkeiten von Jupyter-Notebooks aufzeigen, Literate-Programming zu realisieren. Beim Literate-Programming wird der Quellcode und die dazu gehörende Dokumentation integriert in einem Dokument entwickelt und gepflegt. Der prinzipielle Ablauf ist folgender:"
   ]
  },
  {
   "cell_type": "markdown",
   "id": "hungarian-homeless",
   "metadata": {},
   "source": [
    "![Ablauf Jupyter-Notebook nach PDF bzw. .PY](./img/Ablauf.svg)"
   ]
  },
  {
   "cell_type": "markdown",
   "id": "registered-filename",
   "metadata": {},
   "source": [
    "D.h. aus dem Jupyter-Notebook (.ipynb) wird im ersten Prozess über die Zwischenschritte Markdown und LaTeX am Ende ein PDF-Dokument. Im zweiten Prozess wird aus dem selben Jupyter-Notebook der lauffähige Python-Code erzeugt. Ermöglicht wird dies durch den Einsatz des Frameworks nbdev. nbdev ist in Python geschrieben, genauso wie die Datenanalyse-Software, die Sie im Rahmen dieser Veranstaltung erstellen sollen. Falls Sie eine Einführung in Python benötigen, so wäre z.B. das Buch von Kofler[^Kofler18] geeignet. Einen fundierten und unterhaltsamen Überblick über sog. NoSQL-Datenbanken bietet ein Vortrag von Fowler[^fowler13], der per Youtube verfügbar ist.\n",
    "\n",
    "\n",
    "[^Kofler18]: [@kofler_python_2018]\n",
    "[^fowler13]: [@fowler_introduction_2013]"
   ]
  },
  {
   "cell_type": "markdown",
   "id": "specialized-calcium",
   "metadata": {},
   "source": [
    "# Jupyter Notebook"
   ]
  },
  {
   "cell_type": "markdown",
   "id": "orange-patrick",
   "metadata": {},
   "source": [
    "Jupyter Notebooks sind im Grunde JSON-Dateien, die mit Hilfe der Web-Anwendung Jupyter-notebook oder Jupyter-lab editiert werden. Ein Notebook besteht aus einer Abfolge von Zellen, die entweder Markdown-Text, (Python-)Quellcode oder Rohdaten enthalten. Diese Zellen können beliebig oft und in beliebiger Reihenfolge ausgeführt werden. Auf diese Weise können Code und Dokumentation in einem Dokument gepflegt und gespeichert werden. Das Framework `nbdev`[^fastai21] unterstützt dieses Vorgehen durch die Bereitstellung eines Vorgehensmodells und den dazu passenden Werkzeugen.\n",
    "\n",
    "[^fastai21]: [@fastai_welcome_2021]"
   ]
  },
  {
   "cell_type": "markdown",
   "id": "piano-automation",
   "metadata": {},
   "source": [
    "# Markdown"
   ]
  },
  {
   "cell_type": "markdown",
   "id": "hairy-championship",
   "metadata": {},
   "source": [
    "In diesem Notebook sind verschiedene Beispiele für die Möglichkeiten zur Dokumentation von Programmcode zusammengestellt, die bei der Konvertierung des Notebooks nach LaTeX (und dann nach PDF) verwendet werden können. \n",
    "Im Prinzip steht die komplette Markdown-Syntax zur Verfügung, die von [Jupyter-Notebooks](https://jupyter-notebook.readthedocs.io/en/latest/examples/Notebook/Working%20With%20Markdown%20Cells.html) unterstützt wird. Über die hier gezeigten Beispiele könnte dieses [Cheat-Sheet](https://sqlbak.com/blog/jupyter-notebook-markdown-cheatsheet) helfen.\n",
    "\n",
    "- Listen (dies ist selbst eine solche)\n",
    "- internal references\n",
    "- Mathematische Formeln\n",
    "- weitere Blöcke\n",
    "    - Bilder\n",
    "    - Tabellen\n",
    "    - Quellcode\n",
    "    - Plots\n",
    "- Verweise und Fußnoten\n",
    "- Verschiedene Hinweisblöcke\n",
    "\n",
    "\n",
    "\n",
    "## Listen\n",
    "Nicht nummerierte Liste siehe oben.\n",
    "\n",
    "### Nummerierte Liste\n",
    "1. Eins\n",
    "2. Zwei\n",
    "    1. Zwei Unterpunkt eins\n",
    "    1. Zwei Unterpunkt zwei\n",
    "1. Drei\n",
    "\n",
    "    "
   ]
  },
  {
   "cell_type": "markdown",
   "id": "retained-intermediate",
   "metadata": {},
   "source": [
    "## Bilder"
   ]
  },
  {
   "cell_type": "markdown",
   "id": "presidential-renaissance",
   "metadata": {},
   "source": [
    "Ein einfaches Beipielbild von der Festplatte. Übliche Dateitypen sind .svg, .jpg und .png:\n",
    "\n",
    "![Ein Zahnwal](./img/Delphin300.jpg)"
   ]
  },
  {
   "cell_type": "markdown",
   "id": "opponent-aviation",
   "metadata": {},
   "source": [
    "Graphviz ist ein Werkzeug, um Graphen zu erzeugen. Auch PlantUML basiert auf Graphviz und ist in Jupyter-Notebooks einsetzbar."
   ]
  },
  {
   "cell_type": "code",
   "execution_count": null,
   "id": "graphic-queens",
   "metadata": {},
   "outputs": [
    {
     "data": {
      "image/svg+xml": [
       "<?xml version=\"1.0\" encoding=\"UTF-8\" standalone=\"no\"?>\n",
       "<!DOCTYPE svg PUBLIC \"-//W3C//DTD SVG 1.1//EN\"\n",
       " \"http://www.w3.org/Graphics/SVG/1.1/DTD/svg11.dtd\">\n",
       "<!-- Generated by graphviz version 2.47.0 (20210316.0004)\n",
       " -->\n",
       "<!-- Title: G Pages: 1 -->\n",
       "<svg width=\"483pt\" height=\"98pt\"\n",
       " viewBox=\"0.00 0.00 483.08 98.00\" xmlns=\"http://www.w3.org/2000/svg\" xmlns:xlink=\"http://www.w3.org/1999/xlink\">\n",
       "<g id=\"graph0\" class=\"graph\" transform=\"scale(1 1) rotate(0) translate(4 94)\">\n",
       "<title>G</title>\n",
       "<polygon fill=\"white\" stroke=\"transparent\" points=\"-4,4 -4,-94 479.08,-94 479.08,4 -4,4\"/>\n",
       "<!-- model -->\n",
       "<g id=\"node1\" class=\"node\">\n",
       "<title>model</title>\n",
       "<polygon fill=\"none\" stroke=\"black\" points=\"185.69,-77 117.69,-77 113.69,-73 113.69,-27 181.69,-27 185.69,-31 185.69,-77\"/>\n",
       "<polyline fill=\"none\" stroke=\"black\" points=\"181.69,-73 113.69,-73 \"/>\n",
       "<polyline fill=\"none\" stroke=\"black\" points=\"181.69,-73 181.69,-27 \"/>\n",
       "<polyline fill=\"none\" stroke=\"black\" points=\"181.69,-73 185.69,-77 \"/>\n",
       "<text text-anchor=\"middle\" x=\"149.69\" y=\"-48.3\" font-family=\"Times,serif\" font-size=\"14.00\">model</text>\n",
       "</g>\n",
       "<!-- results -->\n",
       "<g id=\"node3\" class=\"node\">\n",
       "<title>results</title>\n",
       "<ellipse fill=\"none\" stroke=\"black\" cx=\"292.49\" cy=\"-52\" rx=\"33.6\" ry=\"18\"/>\n",
       "<text text-anchor=\"middle\" x=\"292.49\" y=\"-48.3\" font-family=\"Times,serif\" font-size=\"14.00\">results</text>\n",
       "</g>\n",
       "<!-- model&#45;&gt;results -->\n",
       "<g id=\"edge2\" class=\"edge\">\n",
       "<title>model&#45;&gt;results</title>\n",
       "<path fill=\"none\" stroke=\"black\" d=\"M185.86,-52C204.73,-52 228.14,-52 248.13,-52\"/>\n",
       "<polygon fill=\"black\" stroke=\"black\" points=\"248.22,-55.5 258.22,-52 248.22,-48.5 248.22,-55.5\"/>\n",
       "</g>\n",
       "<!-- inputs -->\n",
       "<g id=\"node2\" class=\"node\">\n",
       "<title>inputs</title>\n",
       "<ellipse fill=\"none\" stroke=\"black\" cx=\"38.35\" cy=\"-72\" rx=\"32.49\" ry=\"18\"/>\n",
       "<text text-anchor=\"middle\" x=\"38.35\" y=\"-68.3\" font-family=\"Times,serif\" font-size=\"14.00\">inputs</text>\n",
       "</g>\n",
       "<!-- inputs&#45;&gt;model -->\n",
       "<g id=\"edge1\" class=\"edge\">\n",
       "<title>inputs&#45;&gt;model</title>\n",
       "<path fill=\"none\" stroke=\"black\" d=\"M69.52,-66.48C80.08,-64.55 92.18,-62.34 103.68,-60.23\"/>\n",
       "<polygon fill=\"black\" stroke=\"black\" points=\"104.39,-63.66 113.59,-58.42 103.13,-56.78 104.39,-63.66\"/>\n",
       "</g>\n",
       "<!-- performance -->\n",
       "<g id=\"node5\" class=\"node\">\n",
       "<title>performance</title>\n",
       "<ellipse fill=\"none\" stroke=\"black\" cx=\"419.18\" cy=\"-52\" rx=\"55.79\" ry=\"18\"/>\n",
       "<text text-anchor=\"middle\" x=\"419.18\" y=\"-48.3\" font-family=\"Times,serif\" font-size=\"14.00\">performance</text>\n",
       "</g>\n",
       "<!-- results&#45;&gt;performance -->\n",
       "<g id=\"edge4\" class=\"edge\">\n",
       "<title>results&#45;&gt;performance</title>\n",
       "<path fill=\"none\" stroke=\"black\" d=\"M326.58,-52C334.84,-52 344,-52 353.23,-52\"/>\n",
       "<polygon fill=\"black\" stroke=\"black\" points=\"353.23,-55.5 363.23,-52 353.23,-48.5 353.23,-55.5\"/>\n",
       "</g>\n",
       "<!-- weights -->\n",
       "<g id=\"node4\" class=\"node\">\n",
       "<title>weights</title>\n",
       "<ellipse fill=\"none\" stroke=\"black\" cx=\"38.35\" cy=\"-18\" rx=\"38.19\" ry=\"18\"/>\n",
       "<text text-anchor=\"middle\" x=\"38.35\" y=\"-14.3\" font-family=\"Times,serif\" font-size=\"14.00\">weights</text>\n",
       "</g>\n",
       "<!-- weights&#45;&gt;model -->\n",
       "<g id=\"edge3\" class=\"edge\">\n",
       "<title>weights&#45;&gt;model</title>\n",
       "<path fill=\"none\" stroke=\"black\" d=\"M70.68,-27.74C81.03,-30.96 92.75,-34.61 103.9,-38.07\"/>\n",
       "<polygon fill=\"black\" stroke=\"black\" points=\"102.92,-41.43 113.51,-41.06 105,-34.75 102.92,-41.43\"/>\n",
       "</g>\n",
       "<!-- performance&#45;&gt;weights -->\n",
       "<g id=\"edge5\" class=\"edge\">\n",
       "<title>performance&#45;&gt;weights</title>\n",
       "<path fill=\"none\" stroke=\"black\" d=\"M380.65,-38.79C364.18,-33.57 344.49,-28.08 326.29,-25 242.8,-10.86 143.72,-12.41 86.54,-15.05\"/>\n",
       "<polygon fill=\"black\" stroke=\"black\" points=\"86.17,-11.56 76.36,-15.55 86.52,-18.55 86.17,-11.56\"/>\n",
       "<text text-anchor=\"middle\" x=\"222.19\" y=\"-19.8\" font-family=\"Times,serif\" font-size=\"14.00\">update</text>\n",
       "</g>\n",
       "</g>\n",
       "</svg>\n"
      ],
      "text/plain": [
       "<graphviz.files.Source at 0x110ade950>"
      ]
     },
     "execution_count": null,
     "metadata": {},
     "output_type": "execute_result"
    }
   ],
   "source": [
    "#hide_input\n",
    "#title Training a machine learning model\n",
    "#id training_loop\n",
    "#alt The basic training loop\n",
    "gv('''ordering=in\n",
    "model[shape=box3d width=1 height=0.7]\n",
    "inputs->model->results; weights->model; results->performance\n",
    "performance->weights[constraint=false label=update]''')"
   ]
  },
  {
   "cell_type": "markdown",
   "id": "artificial-pennsylvania",
   "metadata": {},
   "source": [
    "Wie hier zu sehen, werden von `nbdev2md` keine korrekten Bildunterschriften erzeugt. Daher sollte ein per graphviz erzeugtes Bild manuell eingebunden werden. Eventuell wird zu einem späteren Zeitpunkt eine entsprechende Funktionalität zur Verfügugng gestellt."
   ]
  },
  {
   "cell_type": "markdown",
   "id": "affiliated-evening",
   "metadata": {},
   "source": [
    "## Tabellen\n",
    "Für die Erzeugung von Tabellen gibt es verschiedene Möglichkeiten in Markdown selbst, aber auch mit \\LaTeX. Hier einige Beispiele:"
   ]
  },
  {
   "cell_type": "markdown",
   "id": "conceptual-organization",
   "metadata": {},
   "source": [
    "### Markdown"
   ]
  },
  {
   "cell_type": "markdown",
   "id": "guilty-provider",
   "metadata": {},
   "source": [
    "Table: Preise und Vorteile diverser Früchte\n",
    "\n",
    "+---------------+---------------+--------------------+\n",
    "| Fruit         | Price         | Advantages         |\n",
    "+===============+===============+====================+\n",
    "| Bananas       | $1.34         | - built-in wrapper |\n",
    "|               |               | - bright color     |\n",
    "+---------------+---------------+--------------------+\n",
    "| Oranges       | $2.10         | - cures scurvy     |\n",
    "|               |               | - tasty            |\n",
    "+---------------+---------------+--------------------+\n"
   ]
  },
  {
   "cell_type": "markdown",
   "id": "enormous-colon",
   "metadata": {},
   "source": [
    "Die obige Tabelle wird im Jupyter-Notebook nicht korrekt angezeigt, im PDF-Dokument aber sehr wohl, wenn vor und nach der Tabelle Leerzeilen eingefügt werden.\n",
    "\n",
    "Bei der unteren Tabellenform funktioiert beides:\n",
    "      \n",
    "| Stretch/Untouched | ProbDistribution | Accuracy |\n",
    "| :-                | :-:              | -:       |\n",
    "| linksbündig       | zentriert        | .843      \n",
    "\n",
    "Table: Dies ist die Überschrift zur zweiten Tabelle. Wenn die Überschrift sehr lang sein sollte, kann sie sich auch über mehr als eine Zeile erstrecken.\n",
    "      "
   ]
  },
  {
   "cell_type": "markdown",
   "id": "protecting-former",
   "metadata": {},
   "source": [
    "### \\LaTeX\n",
    "\n",
    "Es ist auch möglich Tabellen und andere Elemente in \\LaTeX-Code einzufügen."
   ]
  },
  {
   "cell_type": "markdown",
   "id": "significant-difference",
   "metadata": {},
   "source": [
    "\\begin{tabular}{|l|r|}\\hline\n",
    "Age & Frequency \\\\ \\hline\n",
    "18--25  & 15 \\\\\n",
    "26--35  & 33 \\\\\n",
    "36--45  & 22 \\\\ \\hline\n",
    "\\end{tabular}"
   ]
  },
  {
   "cell_type": "markdown",
   "id": "controlling-spell",
   "metadata": {},
   "source": [
    "Hier das Beispiel einer Formel:"
   ]
  },
  {
   "cell_type": "raw",
   "id": "scheduled-motel",
   "metadata": {},
   "source": [
    "\n",
    "$$f'(a) = \\lim_{x \\to a} \\frac{f(x) - f(a)}{x-a}$$\n"
   ]
  },
  {
   "cell_type": "markdown",
   "id": "understood-rolling",
   "metadata": {},
   "source": [
    "Die Formel selbst sollte in einer eigenen \"Raw\"-Zelle stehen und in dieser oberhalb und unterhalb von einer Leerzeile umgeben sein. Dies ist erforderlich, um mögliche Probleme bei der Konvertierung zu vermeiden."
   ]
  },
  {
   "cell_type": "markdown",
   "id": "weekly-fabric",
   "metadata": {},
   "source": [
    "# nbdev\n",
    "\n",
    "Für die nbdev-Werkzeuge werden die einzelnen Code-Zellen mit speziellen Kommenaren versehen, um nvdev zu signalisieren, wie der jeweilige Code-Block zu verarbeiten ist. Um zu sehen, was die unterschiedlichen Kommentare bewirken, sehen Sie sich bitte die aus diesem Notebook generierte PDF-Datei sowie die generierte Datei examples.py im Verzeichnis `nb2ltx` an.\n",
    "\n",
    "- `#export`: Zelle wird nicht angezeigt; Code wird von `nbdev` in die Moduldatei exportiert\n",
    "- `#exports`: Zelle und Ausgabe der Zelle werden angezeigt; Code wird von nbdev in die Moduldatei exportiert\n"
   ]
  },
  {
   "cell_type": "code",
   "execution_count": null,
   "id": "palestinian-latest",
   "metadata": {},
   "outputs": [],
   "source": [
    "# export\n",
    "def nix():\n",
    "   return"
   ]
  },
  {
   "cell_type": "code",
   "execution_count": null,
   "id": "molecular-wilson",
   "metadata": {},
   "outputs": [
    {
     "name": "stdout",
     "output_type": "stream",
     "text": [
      "Hi\n"
     ]
    }
   ],
   "source": [
    "# exports\n",
    "def wirdAngezeigt():\n",
    "    return 'Sie werden exportiert und angezeigt!'\n",
    "\n",
    "print('Hi')"
   ]
  },
  {
   "cell_type": "markdown",
   "id": "floppy-indonesian",
   "metadata": {},
   "source": [
    "- `#hide`: Von der folgenden Zelle wird weder der Quellcode noch die Ausgabe angezeigt"
   ]
  },
  {
   "cell_type": "code",
   "execution_count": null,
   "id": "shared-beverage",
   "metadata": {},
   "outputs": [
    {
     "data": {
      "text/plain": [
       "'Wir verstecken Sie...'"
      ]
     },
     "execution_count": null,
     "metadata": {},
     "output_type": "execute_result"
    }
   ],
   "source": [
    "# hide\n",
    "def verstecken():\n",
    "    return \"Wir verstecken Sie...\"\n",
    "\n",
    "verstecken()"
   ]
  },
  {
   "cell_type": "markdown",
   "id": "brief-pocket",
   "metadata": {},
   "source": [
    "- `#hide_input`: Von dieser Zelle wird nicht der Quellcode, sondern nur die Ausgabe angezeigt:"
   ]
  },
  {
   "cell_type": "code",
   "execution_count": null,
   "id": "infinite-spencer",
   "metadata": {},
   "outputs": [
    {
     "data": {
      "text/plain": [
       "133.33333333333331"
      ]
     },
     "execution_count": null,
     "metadata": {},
     "output_type": "execute_result"
    }
   ],
   "source": [
    "#hide_input\n",
    "360/2.7"
   ]
  },
  {
   "cell_type": "code",
   "execution_count": null,
   "id": "voluntary-terrain",
   "metadata": {},
   "outputs": [
    {
     "name": "stdout",
     "output_type": "stream",
     "text": [
      "Aufruf der Funktion 'verstecken()':\n"
     ]
    },
    {
     "data": {
      "text/plain": [
       "'Wir verstecken Sie...'"
      ]
     },
     "execution_count": null,
     "metadata": {},
     "output_type": "execute_result"
    }
   ],
   "source": [
    "print(\"Aufruf der Funktion 'verstecken()':\")\n",
    "verstecken()"
   ]
  },
  {
   "cell_type": "markdown",
   "id": "dirty-stupid",
   "metadata": {},
   "source": [
    "- `#sonstiger Kommentar` oder kein Kommentar: Zelle und auch das Ergebnis werden angezeigt"
   ]
  },
  {
   "cell_type": "code",
   "execution_count": null,
   "id": "streaming-escape",
   "metadata": {},
   "outputs": [
    {
     "data": {
      "text/plain": [
       "'Sie werden exportiert und angezeigt!'"
      ]
     },
     "execution_count": null,
     "metadata": {},
     "output_type": "execute_result"
    }
   ],
   "source": [
    "# dies ist ein Test...\n",
    "wirdAngezeigt()"
   ]
  },
  {
   "cell_type": "code",
   "execution_count": null,
   "id": "alike-remedy",
   "metadata": {},
   "outputs": [
    {
     "name": "stdout",
     "output_type": "stream",
     "text": [
      "Zelle ohne Kommentar\n"
     ]
    },
    {
     "data": {
      "text/plain": [
       "'utf-8'"
      ]
     },
     "execution_count": null,
     "metadata": {},
     "output_type": "execute_result"
    }
   ],
   "source": [
    "import sys \n",
    "print('Zelle ohne Kommentar')\n",
    "sys.getdefaultencoding()"
   ]
  },
  {
   "cell_type": "markdown",
   "id": "ecological-cleveland",
   "metadata": {},
   "source": [
    "## Markdown Tests\n",
    "\n",
    "### Umlaute\n",
    "\n",
    "... sind möglich!\n",
    "Umlauttest: öäüÄÜÖß\n"
   ]
  },
  {
   "cell_type": "code",
   "execution_count": null,
   "id": "expressed-merchant",
   "metadata": {},
   "outputs": [],
   "source": []
  }
 ],
 "metadata": {
  "kernelspec": {
   "display_name": "Python 3",
   "language": "python",
   "name": "python3"
  }
 },
 "nbformat": 4,
 "nbformat_minor": 5
}
